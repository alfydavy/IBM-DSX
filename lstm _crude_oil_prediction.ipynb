{
    "nbformat_minor": 1, 
    "cells": [
        {
            "source": "### LSTM - Crude Oil Price Prediction\n\nHere we import data from fred of timeseries based crude oil prices.\nwe then try and apply an LSTM and build a model on the same using the training set of the data", 
            "cell_type": "markdown", 
            "metadata": {}
        }, 
        {
            "execution_count": 25, 
            "cell_type": "code", 
            "metadata": {}, 
            "outputs": [
                {
                    "execution_count": 25, 
                    "metadata": {}, 
                    "data": {
                        "text/html": "<div>\n<style scoped>\n    .dataframe tbody tr th:only-of-type {\n        vertical-align: middle;\n    }\n\n    .dataframe tbody tr th {\n        vertical-align: top;\n    }\n\n    .dataframe thead th {\n        text-align: right;\n    }\n</style>\n<table border=\"1\" class=\"dataframe\">\n  <thead>\n    <tr style=\"text-align: right;\">\n      <th></th>\n      <th>DATE</th>\n      <th>DCOILBRENTEU</th>\n    </tr>\n  </thead>\n  <tbody>\n    <tr>\n      <th>0</th>\n      <td>2013-04-16</td>\n      <td>97.88</td>\n    </tr>\n    <tr>\n      <th>1</th>\n      <td>2013-04-17</td>\n      <td>96.84</td>\n    </tr>\n    <tr>\n      <th>2</th>\n      <td>2013-04-18</td>\n      <td>97.48</td>\n    </tr>\n    <tr>\n      <th>3</th>\n      <td>2013-04-19</td>\n      <td>98.94</td>\n    </tr>\n    <tr>\n      <th>4</th>\n      <td>2013-04-22</td>\n      <td>99.07</td>\n    </tr>\n  </tbody>\n</table>\n</div>", 
                        "text/plain": "         DATE DCOILBRENTEU\n0  2013-04-16        97.88\n1  2013-04-17        96.84\n2  2013-04-18        97.48\n3  2013-04-19        98.94\n4  2013-04-22        99.07"
                    }, 
                    "output_type": "execute_result"
                }
            ], 
            "source": "# The code was removed by DSX for sharing."
        }, 
        {
            "source": "\n#### Data Source\n\nU.S. Energy Information Administration, Crude Oil Prices: Brent - Europe [DCOILBRENTEU], retrieved from FRED, Federal Reserve Bank of St. Louis; https://fred.stlouisfed.org/series/DCOILBRENTEU, January 10, 2018.", 
            "cell_type": "markdown", 
            "metadata": {}
        }, 
        {
            "execution_count": 26, 
            "cell_type": "code", 
            "metadata": {}, 
            "outputs": [
                {
                    "output_type": "stream", 
                    "name": "stdout", 
                    "text": "(1273, 2)\n"
                }
            ], 
            "source": "df_data_1 = df_data_1[df_data_1.DCOILBRENTEU != \".\"]\nprint df_data_1.shape"
        }, 
        {
            "execution_count": 27, 
            "cell_type": "code", 
            "metadata": {}, 
            "outputs": [
                {
                    "execution_count": 27, 
                    "metadata": {}, 
                    "data": {
                        "text/plain": "array([['97.88'],\n       ['96.84'],\n       ['97.48'],\n       ...,\n       ['72.74'],\n       ['71.44'],\n       ['73.18']], dtype=object)"
                    }, 
                    "output_type": "execute_result"
                }
            ], 
            "source": "import matplotlib.pyplot as plt\ndf_data_1_plot = df_data_1.iloc[:,1:2].values\ndf_data_1_plot"
        }, 
        {
            "execution_count": 28, 
            "cell_type": "code", 
            "metadata": {}, 
            "outputs": [
                {
                    "output_type": "display_data", 
                    "data": {
                        "image/png": "[encoded data removed]", 
                        "text/plain": "<matplotlib.figure.Figure at 0x7f3ab4c10ed0>"
                    }, 
                    "metadata": {}
                }
            ], 
            "source": "# Visualising the Data\nplt.plot(df_data_1_plot, color = 'red', label = 'Crude Oil Prices')\nplt.title('Crude Oil Prices Historical Data')\nplt.xlabel('Time (Days)')\nplt.ylabel('Crude Oil Prices')\nplt.legend()\nplt.show()"
        }, 
        {
            "source": "### Stateful vs. Stateless LSTM\n\n#### Stateless: \nLSTM updates parameters on batch 1 and then initiates cell states (meaning - memory, usually with zeros) for batch 2\n#### Stateful: \nit uses batch 1 last output cell sates as initial states for batch 2.\n\n#### When to use which?\n\nWhen sequences in batches are related to each other (e.g. prices of one commodity), we should better use stateful mode\nElse, when one sequence represents a complete sentence, we should go with stateless mode\n\n#### Batch-size: which batch-size to choose?\n\nVery important decision!\n\nImagine, you must learn to recognize a bird... You are presented images of different birds.\n\nWhat would you prefer:\n\nTo see the one image at a time, make your notes about special bird quilities (set your weights) and then see another bird and so on\nOR may be you would better learn if you see - let's say 5 - bird images at ones. May be then you can faster notice the bird's intrinsic properties?\nI'd say - the second method is more efficient for humans. We need more examples of an entitiy, that we have to distinguish.\n\n##### So the machines! Therefore we select a batch size of 64. Later in programming assigment we will see how the batch size impacts the prediction accuracy.", 
            "cell_type": "markdown", 
            "metadata": {}
        }, 
        {
            "execution_count": 29, 
            "cell_type": "code", 
            "metadata": {}, 
            "outputs": [], 
            "source": "#import packages\nimport numpy as np\nimport pandas as pd\nfrom keras.preprocessing import sequence\nfrom keras.models import load_model"
        }, 
        {
            "execution_count": 30, 
            "cell_type": "code", 
            "metadata": {}, 
            "outputs": [], 
            "source": "# defining the batch size and number of epochs\nbatch_size = 64\nepochs = 120\ntimesteps = 30"
        }, 
        {
            "source": "### Batch-size and trainings-set size\n\nWith stateful LSTMs the trainings-set size must be divisible without remainder by the batch-size (modulo = 0)", 
            "cell_type": "markdown", 
            "metadata": {}
        }, 
        {
            "execution_count": 31, 
            "cell_type": "code", 
            "metadata": {}, 
            "outputs": [
                {
                    "output_type": "stream", 
                    "name": "stdout", 
                    "text": "1273\n1145.7\n"
                }
            ], 
            "source": "length = len(df_data_1)\nprint length\nlength *= 1 - 0.1\nprint length"
        }, 
        {
            "execution_count": 32, 
            "cell_type": "code", 
            "metadata": {}, 
            "outputs": [
                {
                    "execution_count": 32, 
                    "metadata": {}, 
                    "data": {
                        "text/plain": "57.700000000000045"
                    }, 
                    "output_type": "execute_result"
                }
            ], 
            "source": "1145.7%64.0"
        }, 
        {
            "execution_count": 33, 
            "cell_type": "code", 
            "metadata": {}, 
            "outputs": [
                {
                    "execution_count": 33, 
                    "metadata": {}, 
                    "data": {
                        "text/plain": "57.0"
                    }, 
                    "output_type": "execute_result"
                }
            ], 
            "source": "1273%64.0"
        }, 
        {
            "execution_count": null, 
            "cell_type": "code", 
            "metadata": {}, 
            "outputs": [], 
            "source": ""
        }, 
        {
            "execution_count": 34, 
            "cell_type": "code", 
            "metadata": {}, 
            "outputs": [], 
            "source": "def get_train_length(dataset, batch_size, test_percent):\n    # substract test_percent to be excluded from training, reserved for testset\n    length = len(dataset)\n    length *= 1 - test_percent\n    train_length_values = []\n    for x in range(int(length) - 100,int(length)): \n        modulo=x%batch_size\n        if (modulo == 0):\n            train_length_values.append(x)\n            print x\n    return (max(train_length_values))"
        }, 
        {
            "execution_count": 35, 
            "cell_type": "code", 
            "metadata": {}, 
            "outputs": [
                {
                    "output_type": "stream", 
                    "name": "stdout", 
                    "text": "1088\n1088\n"
                }
            ], 
            "source": "length = get_train_length(df_data_1, batch_size, 0.1)\nprint length"
        }, 
        {
            "execution_count": 36, 
            "cell_type": "code", 
            "metadata": {}, 
            "outputs": [
                {
                    "execution_count": 36, 
                    "metadata": {}, 
                    "data": {
                        "text/plain": "(1148, 1)"
                    }, 
                    "output_type": "execute_result"
                }
            ], 
            "source": "#Adding timesteps * 2\nupper_train = length + timesteps*2\ndf_data_1_train = df_data_1[0:upper_train]\ntraining_set = df_data_1_train.iloc[:,1:2].values\ntraining_set.shape"
        }, 
        {
            "execution_count": 37, 
            "cell_type": "code", 
            "metadata": {}, 
            "outputs": [
                {
                    "execution_count": 37, 
                    "metadata": {}, 
                    "data": {
                        "text/plain": "(1148, 1)"
                    }, 
                    "output_type": "execute_result"
                }
            ], 
            "source": "# Feature Scaling\nfrom sklearn.preprocessing import MinMaxScaler\nsc = MinMaxScaler(feature_range = (0, 1))\ntraining_set_scaled = sc.fit_transform(np.float64(training_set))\ntraining_set_scaled.shape"
        }, 
        {
            "execution_count": 38, 
            "cell_type": "code", 
            "metadata": {}, 
            "outputs": [
                {
                    "output_type": "stream", 
                    "name": "stdout", 
                    "text": "1118\n1088\n1088\n(1088, 30)\n(1088, 30)\n"
                }
            ], 
            "source": "X_train = []\ny_train = []\n\n# Creating a data structure with n timesteps\n\nprint length + timesteps\nfor i in range(timesteps, length + timesteps): \n    X_train.append(training_set_scaled[i-timesteps:i,0])\n    y_train.append(training_set_scaled[i:i+timesteps,0])\n\nprint len(X_train)\nprint len (y_train)\nprint np.array(X_train).shape\nprint np.array(y_train).shape"
        }, 
        {
            "execution_count": 39, 
            "cell_type": "code", 
            "metadata": {}, 
            "outputs": [
                {
                    "output_type": "stream", 
                    "name": "stdout", 
                    "text": "(1088, 30, 1)\n(1088, 30, 1)\n"
                }
            ], 
            "source": "# Reshaping\nX_train, y_train = np.array(X_train), np.array(y_train)\nX_train = np.reshape(X_train, (X_train.shape[0], X_train.shape[1], 1))\ny_train = np.reshape(y_train, (y_train.shape[0], y_train.shape[1], 1))\nprint X_train.shape\nprint y_train.shape"
        }, 
        {
            "execution_count": 40, 
            "cell_type": "code", 
            "metadata": {}, 
            "outputs": [], 
            "source": "# Building the LSTM\n# Importing the Keras libraries and packages\n\nfrom keras.layers import Dense\nfrom keras.layers import Input, LSTM\nfrom keras.models import Model\nimport h5py"
        }, 
        {
            "execution_count": 41, 
            "cell_type": "code", 
            "metadata": {}, 
            "outputs": [
                {
                    "output_type": "stream", 
                    "name": "stdout", 
                    "text": "Requirement already satisfied: h5py in /gpfs/global_fs01/cluster/yp-spark-lon02-env5-0101.bluemix.net/user/sc40-7a5a3a293ff8f2-921461488860/.local/lib/python2.7/site-packages\r\nRequirement already satisfied: numpy>=1.7 in /gpfs/global_fs01/cluster/yp-spark-lon02-env5-0101.bluemix.net/user/sc40-7a5a3a293ff8f2-921461488860/.local/lib/python2.7/site-packages (from h5py)\r\nRequirement already satisfied: six in /gpfs/global_fs01/cluster/yp-spark-lon02-env5-0101.bluemix.net/user/sc40-7a5a3a293ff8f2-921461488860/.local/lib/python2.7/site-packages (from h5py)\r\n"
                }
            ], 
            "source": "!pip install h5py"
        }, 
        {
            "execution_count": 42, 
            "cell_type": "code", 
            "metadata": {}, 
            "outputs": [], 
            "source": "# Building the LSTM\n# Importing the Keras libraries and packages\n\nfrom keras.layers import Dense\nfrom keras.layers import Input, LSTM\nfrom keras.models import Model\nimport h5py"
        }, 
        {
            "execution_count": 43, 
            "cell_type": "code", 
            "metadata": {}, 
            "outputs": [
                {
                    "output_type": "stream", 
                    "name": "stdout", 
                    "text": "_________________________________________________________________\nLayer (type)                 Output Shape              Param #   \n=================================================================\ninput_1 (InputLayer)         (64, 30, 1)               0         \n_________________________________________________________________\nlstm_1 (LSTM)                (64, 30, 10)              480       \n_________________________________________________________________\nlstm_2 (LSTM)                (64, 30, 10)              840       \n_________________________________________________________________\ndense_1 (Dense)              (64, 30, 1)               11        \n=================================================================\nTotal params: 1,331\nTrainable params: 1,331\nNon-trainable params: 0\n_________________________________________________________________\n"
                }
            ], 
            "source": "# Initialising the LSTM Model with MAE Loss-Function\n# Using Functional API\n\ninputs_1_mae = Input(batch_shape=(batch_size,timesteps, 1))\nlstm_1_mae = LSTM(10, stateful=True, return_sequences=True)(inputs_1_mae)\nlstm_2_mae = LSTM(10, stateful=True, return_sequences=True)(lstm_1_mae)\n\noutput_1_mae = Dense(units = 1)(lstm_2_mae)  # dense is a fully connected layer; unit is the o/p channel\n\nregressor_mae = Model(inputs=inputs_1_mae, outputs = output_1_mae)\n\nregressor_mae.compile(optimizer='adam', loss = 'mae')\nregressor_mae.summary()"
        }, 
        {
            "source": "#### Observe the LSTM layer summary above", 
            "cell_type": "markdown", 
            "metadata": {}
        }, 
        {
            "execution_count": 44, 
            "cell_type": "code", 
            "metadata": {}, 
            "outputs": [
                {
                    "output_type": "stream", 
                    "name": "stdout", 
                    "text": "_________________________________________________________________\nLayer (type)                 Output Shape              Param #   \n=================================================================\ninput_2 (InputLayer)         (64, 30, 1)               0         \n_________________________________________________________________\nlstm_3 (LSTM)                (64, 30, 20)              1760      \n_________________________________________________________________\nlstm_4 (LSTM)                (64, 30, 20)              3280      \n_________________________________________________________________\ndense_2 (Dense)              (64, 30, 1)               21        \n=================================================================\nTotal params: 5,061\nTrainable params: 5,061\nNon-trainable params: 0\n_________________________________________________________________\n"
                }
            ], 
            "source": "# Rerunning with 20 units in the LSTM\n\n\ninputs_1_mae = Input(batch_shape=(batch_size,timesteps, 1))\nlstm_1_mae = LSTM(20, stateful=True, return_sequences=True)(inputs_1_mae)\nlstm_2_mae = LSTM(20, stateful=True, return_sequences=True)(lstm_1_mae)\n\noutput_1_mae = Dense(units = 1)(lstm_2_mae)  # dense is a fully connected layer; unit is the o/p channel\n\nregressor_mae = Model(inputs=inputs_1_mae, outputs = output_1_mae)\n\nregressor_mae.compile(optimizer='adam', loss = 'mae')\nregressor_mae.summary()"
        }, 
        {
            "source": "#### Observe the LSTM layer summary above", 
            "cell_type": "markdown", 
            "metadata": {}
        }, 
        {
            "execution_count": 45, 
            "cell_type": "code", 
            "metadata": {}, 
            "outputs": [], 
            "source": "#some learners constantly reported 502 errors in Watson Studio. \n#This is due to the limited resources in the free tier and the heavy resource consumption of Keras.\n#This is a workaround to limit resource consumption\n\nfrom keras import backend as K\n\nK.set_session(K.tf.Session(config=K.tf.ConfigProto(intra_op_parallelism_threads=1, inter_op_parallelism_threads=1)))"
        }, 
        {
            "source": "### Citation from Redwood Center for Theoretical Neuroscince (Berkeley University)\nhttp://redwood.berkeley.edu\n\nhttp://redwood.berkeley.edu/vs265/Brian-Cheung-LSTMS.pdf\n\n### Overall LSTM Structure\n\nScreen%20Shot%202018-01-13%20at%2013.40.12.png\n\n### LSTM Node Anatomy\nScreen%20Shot%202018-01-13%20at%2013.26.12.png\n\n### One of the best articles:\nhttp://colah.github.io/posts/2015-08-Understanding-LSTMs/\n\n### How LSTM Param Number is computed?\nTo decide how to handle the memory each LSTM Cell has :\ninput (what to let in),\nforget (what to forget) and\noutput (what to write to the output)\nLSTM Cell State is its memory\nLSTM Hidden State is equivalent to the Cell output:\nlstm_hidden_state_size (number of neurons = memory cells) = lstm_outputs_size\nParameters:\nweights for the inputs (lstm_inputs_size)\nweights for the outputs (lstm_outputs_size)\nbias variable\nResult from previous point - for all 3 Gates and for Cell State ( = 4)\n\n\\begin{equation}\n\n  \\textbf{PARAMETERS} = \\textbf4 \\times \\textbf{ LSTM outputs size} \\times (\\textbf{weights LSTM inputs size} + \\textbf{weights LSTM outputs size} + 1 \\textbf{ bias variable})\n\\end{equation}", 
            "cell_type": "markdown", 
            "metadata": {}
        }
    ], 
    "metadata": {
        "kernelspec": {
            "display_name": "Python 2 with Spark 2.1", 
            "name": "python2-spark21", 
            "language": "python"
        }, 
        "language_info": {
            "mimetype": "text/x-python", 
            "nbconvert_exporter": "python", 
            "version": "2.7.11", 
            "name": "python", 
            "file_extension": ".py", 
            "pygments_lexer": "ipython2", 
            "codemirror_mode": {
                "version": 2, 
                "name": "ipython"
            }
        }
    }, 
    "nbformat": 4
}