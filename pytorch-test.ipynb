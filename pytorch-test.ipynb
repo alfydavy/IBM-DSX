{
    "nbformat_minor": 1, 
    "cells": [
        {
            "source": "## Introduction to PyTorch\n\nPyTorch's tensor library\nThe most of PyTorch operations are running on tensors. A tensor is an multidimensional array. Lets have a look on some basic tensor operations. But first, lets import some important PyTorch libraries:\n\ntorch - a Tensor library similar to NumPy, with strong GPU support\ntorch.autograd - a \"tape-based\" (about this - later on) automatic differentiation library\ntorch.nn - a neural networks library deeply integrated with autograd\ntorch.optim - an optimization package to be used with torch.nn with standard optimization methods such as SGD, RMSProp, LBFGS, Adam etc.\nWe also set a seed to be able to reproduce the same results later.", 
            "cell_type": "markdown", 
            "metadata": {}
        }, 
        {
            "execution_count": 7, 
            "cell_type": "code", 
            "metadata": {}, 
            "outputs": [], 
            "source": "%matplotlib inline # to make the graphs display within the notebook"
        }, 
        {
            "execution_count": 1, 
            "cell_type": "code", 
            "metadata": {}, 
            "outputs": [
                {
                    "output_type": "stream", 
                    "name": "stdout", 
                    "text": "Collecting torch==0.3.1 from http://download.pytorch.org/whl/cpu/torch-0.3.1-cp27-cp27mu-linux_x86_64.whl\n  Downloading http://download.pytorch.org/whl/cpu/torch-0.3.1-cp27-cp27mu-linux_x86_64.whl (47.2MB)\n\u001b[K    100% |\u2588\u2588\u2588\u2588\u2588\u2588\u2588\u2588\u2588\u2588\u2588\u2588\u2588\u2588\u2588\u2588\u2588\u2588\u2588\u2588\u2588\u2588\u2588\u2588\u2588\u2588\u2588\u2588\u2588\u2588\u2588\u2588| 47.2MB 23.7MB/s ta 0:00:01\n\u001b[?25hRequirement already satisfied: pyyaml in /usr/local/src/bluemix_jupyter_bundle.v80/notebook/lib/python2.7/site-packages (from torch==0.3.1)\nRequirement already satisfied: numpy in /gpfs/global_fs01/cluster/yp-spark-lon02-env5-0101.bluemix.net/user/sc40-7a5a3a293ff8f2-921461488860/.local/lib/python2.7/site-packages (from torch==0.3.1)\nInstalling collected packages: torch\nSuccessfully installed torch-0.3.1\nCollecting torchvision\n  Downloading torchvision-0.2.0-py2.py3-none-any.whl (48kB)\n\u001b[K    100% |\u2588\u2588\u2588\u2588\u2588\u2588\u2588\u2588\u2588\u2588\u2588\u2588\u2588\u2588\u2588\u2588\u2588\u2588\u2588\u2588\u2588\u2588\u2588\u2588\u2588\u2588\u2588\u2588\u2588\u2588\u2588\u2588| 51kB 2.3MB/s ta 0:00:011\n\u001b[?25hRequirement already satisfied: six in /gpfs/global_fs01/cluster/yp-spark-lon02-env5-0101.bluemix.net/user/sc40-7a5a3a293ff8f2-921461488860/.local/lib/python2.7/site-packages (from torchvision)\nRequirement already satisfied: numpy in /gpfs/global_fs01/cluster/yp-spark-lon02-env5-0101.bluemix.net/user/sc40-7a5a3a293ff8f2-921461488860/.local/lib/python2.7/site-packages (from torchvision)\nRequirement already satisfied: torch in /gpfs/global_fs01/cluster/yp-spark-lon02-env5-0101.bluemix.net/user/sc40-7a5a3a293ff8f2-921461488860/.local/lib/python2.7/site-packages (from torchvision)\nRequirement already satisfied: pillow>=4.1.1 in /gpfs/global_fs01/cluster/yp-spark-lon02-env5-0101.bluemix.net/user/sc40-7a5a3a293ff8f2-921461488860/.local/lib/python2.7/site-packages (from torchvision)\nRequirement already satisfied: pyyaml in /usr/local/src/bluemix_jupyter_bundle.v80/notebook/lib/python2.7/site-packages (from torch->torchvision)\nInstalling collected packages: torchvision\nSuccessfully installed torchvision-0.2.0\n"
                }
            ], 
            "source": "!pip install http://download.pytorch.org/whl/cpu/torch-0.3.1-cp27-cp27mu-linux_x86_64.whl \n!pip install torchvision"
        }, 
        {
            "execution_count": 2, 
            "cell_type": "code", 
            "metadata": {}, 
            "outputs": [
                {
                    "execution_count": 2, 
                    "metadata": {}, 
                    "data": {
                        "text/plain": "<torch._C.Generator at 0x7fe935760350>"
                    }, 
                    "output_type": "execute_result"
                }
            ], 
            "source": "import torch\nimport torch.autograd as autograd\nimport torch.nn as nn\nimport torch.optim as optim\n\ntorch.manual_seed(123)"
        }, 
        {
            "source": "### Creating Tensors", 
            "cell_type": "markdown", 
            "metadata": {}
        }, 
        {
            "execution_count": 6, 
            "cell_type": "code", 
            "metadata": {}, 
            "outputs": [
                {
                    "output_type": "stream", 
                    "name": "stdout", 
                    "text": "<type 'list'>\n\n 1\n 2\n 3\n[torch.FloatTensor of size 3]\n\n\n 1  2  3\n 4  5  6\n[torch.FloatTensor of size 2x3]\n\n\n(0 ,.,.) = \n   1   2   3\n   4   5   6\n   7   8   9\n\n(1 ,.,.) = \n  10  11  12\n  13  14  15\n  16  17  18\n\n(2 ,.,.) = \n  19  20  21\n  22  23  24\n  25  26  27\n[torch.FloatTensor of size 3x3x3]\n\n\n(0 ,0 ,.,.) = \n -0.1115  0.1204 -0.3696\n -0.2404 -1.1969  0.2093\n -0.9724 -0.7550  0.3239\n\n(0 ,1 ,.,.) = \n -0.1085  0.2103 -0.3908\n  0.2350  0.6653  0.3528\n  0.9728 -0.0386 -0.8861\n\n(0 ,2 ,.,.) = \n -0.4709 -0.4269 -0.0283\n  1.4220 -0.3886 -0.8903\n -0.9601 -0.4087  1.0764\n\n(1 ,0 ,.,.) = \n -0.4015 -0.7291 -0.1218\n -0.4796 -0.5166 -0.3107\n  0.2057  0.9657  0.7057\n\n(1 ,1 ,.,.) = \n  0.7290  1.2775 -1.0815\n -1.3027  1.0827 -1.3841\n  0.4033 -1.2239  0.7017\n\n(1 ,2 ,.,.) = \n  2.2139 -0.0276  1.0541\n  0.5661 -0.3820  0.8807\n  0.2710  0.7694  0.3453\n\n(2 ,0 ,.,.) = \n  1.8979 -0.2357  0.7885\n  0.3208  0.8456 -0.3621\n  0.1027 -3.5310  0.5485\n\n(2 ,1 ,.,.) = \n -1.6063  0.7281  0.6609\n  0.2391  0.0340  0.1164\n -0.9905  0.5646  0.0686\n\n(2 ,2 ,.,.) = \n -1.0035 -0.7874  0.9840\n  0.2045 -0.3604  1.2101\n -1.0814  0.0789  0.2913\n\n(3 ,0 ,.,.) = \n -0.5023 -0.9306  0.9086\n -0.7788 -1.4453  0.7636\n -0.2469  0.5857  0.9906\n\n(3 ,1 ,.,.) = \n  0.0417 -1.1668  1.3251\n -0.7990  0.6292 -1.2097\n -2.1362 -0.1212 -0.1443\n\n(3 ,2 ,.,.) = \n  0.9969  0.5697 -0.4930\n  0.3155 -0.2275 -1.7942\n  1.0417 -0.2358 -0.3030\n[torch.FloatTensor of size 4x3x3x3]\n\n"
                }
            ], 
            "source": "# Create a torch.Tensor object from python list\nv = [1, 2, 3]\nprint(type(v))\nv_tensor = torch.Tensor(v)\nprint(v_tensor)\n\n# Create a torch.Tensor object of size 2x3 from 2x3 matrix\nm2x3 = [[1, 2, 3], [4, 5, 6]]\nm2x3_tensor = torch.Tensor(m2x3)\nprint(m2x3_tensor)\n\n# Create a 3D torch.Tensor object of size 3x3x3.\nm3x3x3 = [[[1, 2, 3], [4, 5, 6], [7, 8, 9]],\n          [[10, 11, 12],[13, 14, 15], [16, 17, 18]],\n            [[19, 20, 21],[22, 23, 24], [25, 26, 27]]]\nm3x3x3_tensor = torch.Tensor(m3x3x3)\nprint(m3x3x3_tensor)\n\n#Create a 4Dtensor from random data and given dimensions (in this case 3x4x5x6) with torch.randn()\nm4x3x3x3_tensor = torch.randn((4, 3, 3, 3))\nm4x3x3x3_tensor.shape\nprint(m4x3x3x3_tensor)"
        }, 
        {
            "source": "### What is a multidimensional tensor?\n\nSince we frequently deal with n > 3 dimensional tensors, its understanding is very important. The best way to think of a higher (n) dimensional object (and tensor in particular) is as of a container which keeps a series of n-1 dimensional objects \"inside\" of it. We can \"pull out\" these \"inner\" objects by indexing in to higher dimensional tensor container. Let's have a look on some examples:\n\nFor a vector v (dim(v)=1), indexing into it (\"pulling out of it\") returns its \"slice\" - a scalar s (dim(s)=0).\n\nFor a matrix, indexing into it returns its \"slice\" - a (row or column) vector.\n\n3D tensor can be seen as a cube or 3D rectangular consisting of horizontally \"stacked\" matrices. So if we index into a such tensor it will give us its slice which is a matrix!\n\nWe can't easily visualize 5D (or n-D) tensors, but the idea is actually the same. If we index in to them, we will pull out an object of dimension n-1.\n\nE.g. a 4D tensor can be seen as a list of cubes or 3D reactangulars. If we index in to a 4D tensor, we will get 3D rectangulars.", 
            "cell_type": "markdown", 
            "metadata": {}
        }, 
        {
            "execution_count": 8, 
            "cell_type": "code", 
            "metadata": {}, 
            "outputs": [
                {
                    "output_type": "stream", 
                    "name": "stdout", 
                    "text": "1.0\n\n 1\n 2\n 3\n[torch.FloatTensor of size 3]\n\n\n 1  2  3\n 4  5  6\n 7  8  9\n[torch.FloatTensor of size 3x3]\n\n\n(0 ,.,.) = \n -0.1115  0.1204 -0.3696\n -0.2404 -1.1969  0.2093\n -0.9724 -0.7550  0.3239\n\n(1 ,.,.) = \n -0.1085  0.2103 -0.3908\n  0.2350  0.6653  0.3528\n  0.9728 -0.0386 -0.8861\n\n(2 ,.,.) = \n -0.4709 -0.4269 -0.0283\n  1.4220 -0.3886 -0.8903\n -0.9601 -0.4087  1.0764\n[torch.FloatTensor of size 3x3x3]\n\n"
                }
            ], 
            "source": "# Index into v_tensor and get a scalar\nprint(v_tensor[0])\n\n# Index into m2x3_tensor and get a vector\nprint(m2x3_tensor[0])\n\n# Index into m3x3x3_tensor and get a matrix\nprint(m3x3x3_tensor[0])\n\n# Index into m4x3x3x3_tensor and get a 3D rectangular of size 4x5x6\nprint(m4x3x3x3_tensor[0])"
        }, 
        {
            "source": "### Operations with Tensors\n\nYou can operate on tensors in the ways you would expect. See the documentation http://pytorch.org/docs/torch.html for a complete list of operations.\n\nSimple mathematical operations: Addition, Multiplication", 
            "cell_type": "markdown", 
            "metadata": {}
        }, 
        {
            "execution_count": 9, 
            "cell_type": "code", 
            "metadata": {}, 
            "outputs": [
                {
                    "output_type": "stream", 
                    "name": "stdout", 
                    "text": "\n 1\n 2\n 3\n[torch.FloatTensor of size 3]\n\n\n 4\n 5\n 6\n[torch.FloatTensor of size 3]\n\n32.0\n"
                }
            ], 
            "source": "x = torch.Tensor([1, 2, 3])\ny = torch.Tensor([4, 5, 6])\nprint(x)\nprint(y)\n\nw = torch.matmul(x, y)\nprint(w)"
        }, 
        {
            "execution_count": 10, 
            "cell_type": "code", 
            "metadata": {}, 
            "outputs": [
                {
                    "output_type": "stream", 
                    "name": "stdout", 
                    "text": "\n 0.4934 -0.2766  0.2439 -1.2116 -0.1520\n 0.1509 -0.6251 -0.4416  0.3208 -0.3273\n[torch.FloatTensor of size 2x5]\n\n\n-0.5305 -0.0172  0.4719  0.5671  2.7930\n 0.3229  0.8552  0.7492 -1.7119  0.6025\n-0.7018 -1.3130  0.1574  2.0114  0.1004\n[torch.FloatTensor of size 3x5]\n\n\n 0.4934 -0.2766  0.2439 -1.2116 -0.1520\n 0.1509 -0.6251 -0.4416  0.3208 -0.3273\n-0.5305 -0.0172  0.4719  0.5671  2.7930\n 0.3229  0.8552  0.7492 -1.7119  0.6025\n-0.7018 -1.3130  0.1574  2.0114  0.1004\n[torch.FloatTensor of size 5x5]\n\n\n 0.8222 -0.0176  1.2481\n-0.0710  2.1627  1.5215\n[torch.FloatTensor of size 2x3]\n\n\n-1.0547  1.7822  1.9736 -0.3101 -0.8211\n 0.1315 -0.6948 -0.5823  1.0035 -1.4613\n 0.8985  0.6210 -0.9679  0.6740 -1.2828\n[torch.FloatTensor of size 3x5]\n\n"
                }, 
                {
                    "ename": "RuntimeError", 
                    "evalue": "invalid argument 0: Sizes of tensors must match except in dimension 1. Got 2 and 3 in dimension 0 at /pytorch/torch/lib/TH/generic/THTensorMath.c:2897", 
                    "traceback": [
                        "\u001b[0;31m\u001b[0m", 
                        "\u001b[0;31mRuntimeError\u001b[0mTraceback (most recent call last)", 
                        "\u001b[0;32m<ipython-input-10-c85240a5062e>\u001b[0m in \u001b[0;36m<module>\u001b[0;34m()\u001b[0m\n\u001b[1;32m     14\u001b[0m \u001b[0;32mprint\u001b[0m\u001b[0;34m(\u001b[0m\u001b[0my_2\u001b[0m\u001b[0;34m)\u001b[0m\u001b[0;34m\u001b[0m\u001b[0m\n\u001b[1;32m     15\u001b[0m \u001b[0;31m# second arg specifies which axis to concat along. Here we select 1 (columns). It's attaching the columns.\u001b[0m\u001b[0;34m\u001b[0m\u001b[0;34m\u001b[0m\u001b[0m\n\u001b[0;32m---> 16\u001b[0;31m \u001b[0mz_2\u001b[0m \u001b[0;34m=\u001b[0m \u001b[0mtorch\u001b[0m\u001b[0;34m.\u001b[0m\u001b[0mcat\u001b[0m\u001b[0;34m(\u001b[0m\u001b[0;34m[\u001b[0m\u001b[0mx_2\u001b[0m\u001b[0;34m,\u001b[0m \u001b[0my_2\u001b[0m\u001b[0;34m]\u001b[0m\u001b[0;34m,\u001b[0m \u001b[0;36m1\u001b[0m\u001b[0;34m)\u001b[0m\u001b[0;34m\u001b[0m\u001b[0m\n\u001b[0m\u001b[1;32m     17\u001b[0m \u001b[0;32mprint\u001b[0m\u001b[0;34m(\u001b[0m\u001b[0mz_2\u001b[0m\u001b[0;34m)\u001b[0m\u001b[0;34m\u001b[0m\u001b[0m\n\u001b[1;32m     18\u001b[0m \u001b[0;34m\u001b[0m\u001b[0m\n", 
                        "\u001b[0;31mRuntimeError\u001b[0m: invalid argument 0: Sizes of tensors must match except in dimension 1. Got 2 and 3 in dimension 0 at /pytorch/torch/lib/TH/generic/THTensorMath.c:2897"
                    ], 
                    "output_type": "error"
                }
            ], 
            "source": "# By default, it concatenates along the axis with 0 (rows). It's \"stacking\" the rows.\n\nx_1 = torch.randn(2, 5)\nprint(x_1)\ny_1 = torch.randn(3, 5)\nprint(y_1)\nz_1 = torch.cat([x_1, y_1])\nprint(z_1)\n\n# Concatenate columns:\nx_2 = torch.randn(2, 3)\nprint(x_2)\ny_2 = torch.randn(3, 5)\nprint(y_2)\n# second arg specifies which axis to concat along. Here we select 1 (columns). It's attaching the columns.\nz_2 = torch.cat([x_2, y_2], 1)\nprint(z_2)\n\n# If your tensors are not compatible, torch will complain.  Uncomment to see the error\ntorch.cat([x_1, x_2])"
        }, 
        {
            "source": "### Reshaping Tensors\n\nWe can use the .view() method to reshape a tensor. Often we will need to reshape our data before passing it to a neuronal network.\n\nLet's assume we have 64000 RGB images with the size of 28x28 pixels. We can define an array fo shape (64000, 3, 28, 28) to hold them, where 3 is number of color channels:", 
            "cell_type": "markdown", 
            "metadata": {}
        }, 
        {
            "execution_count": 11, 
            "cell_type": "code", 
            "metadata": {}, 
            "outputs": [
                {
                    "output_type": "stream", 
                    "name": "stdout", 
                    "text": "torch.Size([32, 2000, 3, 28, 28])\n"
                }
            ], 
            "source": "x = torch.randn(64000, 3, 28, 28)\n# Now we want to add a batch dimension of size 32. We can then infer the second dimension by placing -1:\nx_rehsaped = x.view(32, -1, 3, 28, 28)\nprint(x_rehsaped.shape)"
        }, 
        {
            "source": "### Computation Graphs and Automatic Differentiation\n\nA computation graph is a specification of what parameters with which operations are involved in the computation to give the output.\n\nThe fundamental class of Pytorch autograd.Variable keeps track of how it was created.\n\n", 
            "cell_type": "markdown", 
            "metadata": {}
        }, 
        {
            "execution_count": 12, 
            "cell_type": "code", 
            "metadata": {}, 
            "outputs": [
                {
                    "output_type": "stream", 
                    "name": "stdout", 
                    "text": "\n 1\n 2\n 3\n[torch.FloatTensor of size 3]\n\n\n 5\n 7\n 9\n[torch.FloatTensor of size 3]\n\n<AddBackward1 object at 0x7fe90ae7ee10>\n"
                }
            ], 
            "source": "# Variables wrap tensor objects\nx = autograd.Variable(torch.Tensor([1, 2, 3]), requires_grad=True)\n# You can access the data with the .data attribute\nprint(x.data)\n\ny = autograd.Variable(torch.Tensor([4, 5, 6]), requires_grad=True)\n\n# With autograd.Variable you can also perform all the same operations you did with tensors\nz = x + y\nprint(z.data)\n\n#  w knows also that it's result of addition of z lements (AddBackward)\noperation = z.grad_fn\nprint(operation)"
        }, 
        {
            "execution_count": 21, 
            "cell_type": "code", 
            "metadata": {}, 
            "outputs": [
                {
                    "output_type": "stream", 
                    "name": "stdout", 
                    "text": "1.28212755919\n"
                }, 
                {
                    "ename": "AttributeError", 
                    "evalue": "'float' object has no attribute 'grad_fn'", 
                    "traceback": [
                        "\u001b[0;31m\u001b[0m", 
                        "\u001b[0;31mAttributeError\u001b[0mTraceback (most recent call last)", 
                        "\u001b[0;32m<ipython-input-21-df8a085830e2>\u001b[0m in \u001b[0;36m<module>\u001b[0;34m()\u001b[0m\n\u001b[1;32m      3\u001b[0m \u001b[0ms\u001b[0m \u001b[0;34m=\u001b[0m \u001b[0mz\u001b[0m\u001b[0;34m.\u001b[0m\u001b[0msum\u001b[0m\u001b[0;34m(\u001b[0m\u001b[0;34m)\u001b[0m\u001b[0;34m\u001b[0m\u001b[0m\n\u001b[1;32m      4\u001b[0m \u001b[0;32mprint\u001b[0m\u001b[0;34m(\u001b[0m\u001b[0ms\u001b[0m\u001b[0;34m)\u001b[0m\u001b[0;34m\u001b[0m\u001b[0m\n\u001b[0;32m----> 5\u001b[0;31m \u001b[0;32mprint\u001b[0m\u001b[0;34m(\u001b[0m\u001b[0ms\u001b[0m\u001b[0;34m.\u001b[0m\u001b[0mgrad_fn\u001b[0m\u001b[0;34m)\u001b[0m\u001b[0;34m\u001b[0m\u001b[0m\n\u001b[0m", 
                        "\u001b[0;31mAttributeError\u001b[0m: 'float' object has no attribute 'grad_fn'"
                    ], 
                    "output_type": "error"
                }
            ], 
            "source": "# The autograd.Variable knows which operation has created it. But how does that help compute a gradient?\n# Lets sum up all the entries in z\ns = z.sum()\nprint(s)\nprint(s.grad_fn)"
        }, 
        {
            "source": "### Gradient\n\nSo now, what is the derivative of this sum with respect to the first component of x? Remember, that x is a tensor of 3 elements: $x = (x_0, x_1, x_2)$\n\nIn math, we want a partial derivative of $s$ with respect to $x_0$: $\\frac{\\partial s}{\\partial x_0}$\n\nWell, $s$ knows that it was created as a $sum$ of the tensor $z$ elements $(z_0, z_1, z_2)$. $z$ knows that it was the sum $x + y$. So\n\n$$\\begin{align}s = \\overbrace{x_0 + y_0}^\\text{$z_0$} + \\overbrace{x_1 + y_1}^\\text{$z_1$} + \\overbrace{x_2 + y_2}^\\text{$z_2$}\\end{align}$$\nAnd so $s$ contains enough information to determine that the derivative of $s$ with respect to $x_0$ is 1!\n\nReminder: If you compute the partial derivative with respekt to one variable, you handle all other variables as constants. Therefore they all $(x_1, x_2, y_0, y_1, y_2)$ get zeroes, and the derivative of $f(x_0) = x_0$ is 1.\n\nFirst we need to run backpropagation and calculate gradients with respect to every variable. Note: if you run backward multiple times, the gradient will increment. That is because Pytorch accumulates the gradient into the .grad property, since for many models this is very convenient. Lets now have Pytorch compute the gradient, and see that we were right with our guess of 1:", 
            "cell_type": "markdown", 
            "metadata": {}
        }, 
        {
            "execution_count": 19, 
            "cell_type": "code", 
            "metadata": {}, 
            "outputs": [], 
            "source": "# calling .backward() on any variable will run backprop, starting from it.\ns.backward(retain_graph=True)"
        }, 
        {
            "execution_count": 20, 
            "cell_type": "code", 
            "metadata": {}, 
            "outputs": [
                {
                    "output_type": "stream", 
                    "name": "stdout", 
                    "text": "\n-0.3503  1.4220\n-0.0637  0.3308\n[torch.FloatTensor of size 2x2]\n\n"
                }, 
                {
                    "ename": "AttributeError", 
                    "evalue": "'torch.FloatTensor' object has no attribute 'grad'", 
                    "traceback": [
                        "\u001b[0;31m\u001b[0m", 
                        "\u001b[0;31mAttributeError\u001b[0mTraceback (most recent call last)", 
                        "\u001b[0;32m<ipython-input-20-89b984a6c055>\u001b[0m in \u001b[0;36m<module>\u001b[0;34m()\u001b[0m\n\u001b[1;32m      1\u001b[0m \u001b[0;32mprint\u001b[0m\u001b[0;34m(\u001b[0m\u001b[0mx\u001b[0m\u001b[0;34m)\u001b[0m\u001b[0;34m\u001b[0m\u001b[0m\n\u001b[0;32m----> 2\u001b[0;31m \u001b[0;32mprint\u001b[0m\u001b[0;34m(\u001b[0m\u001b[0mx\u001b[0m\u001b[0;34m.\u001b[0m\u001b[0mgrad\u001b[0m\u001b[0;34m)\u001b[0m\u001b[0;34m\u001b[0m\u001b[0m\n\u001b[0m\u001b[1;32m      3\u001b[0m \u001b[0;32mprint\u001b[0m\u001b[0;34m(\u001b[0m\u001b[0my\u001b[0m\u001b[0;34m.\u001b[0m\u001b[0mgrad\u001b[0m\u001b[0;34m)\u001b[0m\u001b[0;34m\u001b[0m\u001b[0m\n", 
                        "\u001b[0;31mAttributeError\u001b[0m: 'torch.FloatTensor' object has no attribute 'grad'"
                    ], 
                    "output_type": "error"
                }
            ], 
            "source": "print(x)\nprint(x.grad)\nprint(y.grad)"
        }, 
        {
            "source": "### How NOT to break the computational graph\n\nLet's create two torch tensors and add them up:", 
            "cell_type": "markdown", 
            "metadata": {}
        }, 
        {
            "execution_count": 16, 
            "cell_type": "code", 
            "metadata": {}, 
            "outputs": [
                {
                    "output_type": "stream", 
                    "name": "stdout", 
                    "text": "\n-0.0693  1.8363\n 1.4892 -1.9741\n[torch.FloatTensor of size 2x2]\n\n"
                }
            ], 
            "source": "x = torch.randn((2, 2))\ny = torch.randn((2, 2))\nz = x + y  # These are Tensor types, and backprop would not be possible\n\nprint(z)"
        }, 
        {
            "execution_count": 17, 
            "cell_type": "code", 
            "metadata": {}, 
            "outputs": [
                {
                    "output_type": "stream", 
                    "name": "stdout", 
                    "text": "<AddBackward1 object at 0x7fe90ae65910>\n"
                }
            ], 
            "source": "# Now we wrap the torch tensors in autograd.Variable. The var_z contains the information for backpropagation\nvar_x = autograd.Variable(x, requires_grad=True)\nvar_y = autograd.Variable(y, requires_grad=True)\n# var_z contains enough information to compute gradients, as we saw above\nvar_z = var_x + var_y\nprint(var_z.grad_fn)"
        }, 
        {
            "execution_count": 22, 
            "cell_type": "code", 
            "metadata": {}, 
            "outputs": [
                {
                    "output_type": "stream", 
                    "name": "stdout", 
                    "text": "None\n"
                }
            ], 
            "source": "#But what happens if we extract the wrapped tensor object out of var_z and re-wrap the tensor in a new autograd.Variable?\nvar_z_data = var_z.data\nnew_var_z = autograd.Variable(var_z_data)\nprint(new_var_z.grad_fn)"
        }, 
        {
            "execution_count": 23, 
            "cell_type": "code", 
            "metadata": {}, 
            "outputs": [
                {
                    "ename": "RuntimeError", 
                    "evalue": "element 0 of variables does not require grad and does not have a grad_fn", 
                    "traceback": [
                        "\u001b[0;31m\u001b[0m", 
                        "\u001b[0;31mRuntimeError\u001b[0mTraceback (most recent call last)", 
                        "\u001b[0;32m<ipython-input-23-6f1497b1c368>\u001b[0m in \u001b[0;36m<module>\u001b[0;34m()\u001b[0m\n\u001b[1;32m      1\u001b[0m \u001b[0;31m# The variable chain is not existing anymore, since we have extracted only data and the whole operations chain was lost.\u001b[0m\u001b[0;34m\u001b[0m\u001b[0;34m\u001b[0m\u001b[0m\n\u001b[1;32m      2\u001b[0m \u001b[0;31m# If we try now to compute backward on new_var_z, it will throw an error:\u001b[0m\u001b[0;34m\u001b[0m\u001b[0;34m\u001b[0m\u001b[0m\n\u001b[0;32m----> 3\u001b[0;31m \u001b[0mnew_var_z\u001b[0m\u001b[0;34m.\u001b[0m\u001b[0mbackward\u001b[0m\u001b[0;34m(\u001b[0m\u001b[0mretain_graph\u001b[0m\u001b[0;34m=\u001b[0m\u001b[0mTrue\u001b[0m\u001b[0;34m)\u001b[0m\u001b[0;34m\u001b[0m\u001b[0m\n\u001b[0m", 
                        "\u001b[0;32m/gpfs/fs01/user/sc40-7a5a3a293ff8f2-921461488860/.local/lib/python2.7/site-packages/torch/autograd/variable.pyc\u001b[0m in \u001b[0;36mbackward\u001b[0;34m(self, gradient, retain_graph, create_graph, retain_variables)\u001b[0m\n\u001b[1;32m    165\u001b[0m                 \u001b[0mVariable\u001b[0m\u001b[0;34m.\u001b[0m\u001b[0;34m\u001b[0m\u001b[0m\n\u001b[1;32m    166\u001b[0m         \"\"\"\n\u001b[0;32m--> 167\u001b[0;31m         \u001b[0mtorch\u001b[0m\u001b[0;34m.\u001b[0m\u001b[0mautograd\u001b[0m\u001b[0;34m.\u001b[0m\u001b[0mbackward\u001b[0m\u001b[0;34m(\u001b[0m\u001b[0mself\u001b[0m\u001b[0;34m,\u001b[0m \u001b[0mgradient\u001b[0m\u001b[0;34m,\u001b[0m \u001b[0mretain_graph\u001b[0m\u001b[0;34m,\u001b[0m \u001b[0mcreate_graph\u001b[0m\u001b[0;34m,\u001b[0m \u001b[0mretain_variables\u001b[0m\u001b[0;34m)\u001b[0m\u001b[0;34m\u001b[0m\u001b[0m\n\u001b[0m\u001b[1;32m    168\u001b[0m \u001b[0;34m\u001b[0m\u001b[0m\n\u001b[1;32m    169\u001b[0m     \u001b[0;32mdef\u001b[0m \u001b[0mregister_hook\u001b[0m\u001b[0;34m(\u001b[0m\u001b[0mself\u001b[0m\u001b[0;34m,\u001b[0m \u001b[0mhook\u001b[0m\u001b[0;34m)\u001b[0m\u001b[0;34m:\u001b[0m\u001b[0;34m\u001b[0m\u001b[0m\n", 
                        "\u001b[0;32m/gpfs/fs01/user/sc40-7a5a3a293ff8f2-921461488860/.local/lib/python2.7/site-packages/torch/autograd/__init__.pyc\u001b[0m in \u001b[0;36mbackward\u001b[0;34m(variables, grad_variables, retain_graph, create_graph, retain_variables)\u001b[0m\n\u001b[1;32m     97\u001b[0m \u001b[0;34m\u001b[0m\u001b[0m\n\u001b[1;32m     98\u001b[0m     Variable._execution_engine.run_backward(\n\u001b[0;32m---> 99\u001b[0;31m         variables, grad_variables, retain_graph)\n\u001b[0m\u001b[1;32m    100\u001b[0m \u001b[0;34m\u001b[0m\u001b[0m\n\u001b[1;32m    101\u001b[0m \u001b[0;34m\u001b[0m\u001b[0m\n", 
                        "\u001b[0;31mRuntimeError\u001b[0m: element 0 of variables does not require grad and does not have a grad_fn"
                    ], 
                    "output_type": "error"
                }
            ], 
            "source": "# The variable chain is not existing anymore, since we have extracted only data and the whole operations chain was lost. \n# If we try now to compute backward on new_var_z, it will throw an error:\nnew_var_z.backward(retain_graph=True)"
        }, 
        {
            "source": "### CUDA\n\nCheck wether GPU accelaration with CUDA is available", 
            "cell_type": "markdown", 
            "metadata": {}
        }, 
        {
            "execution_count": 24, 
            "cell_type": "code", 
            "metadata": {}, 
            "outputs": [], 
            "source": "# let us run this cell only if CUDA is available\nif torch.cuda.is_available():\n    # creates a LongTensor and transfers it\n    # to GPU as torch.cuda.LongTensor\n    a = torch.LongTensor(10).fill_(3).cuda()\n    print(type(a))\n    b = a.cpu()\n    # transfers it to CPU, back to\n    # being a torch.LongTensor"
        }, 
        {
            "source": "## Linear Model", 
            "cell_type": "markdown", 
            "metadata": {}
        }, 
        {
            "execution_count": 25, 
            "cell_type": "code", 
            "metadata": {}, 
            "outputs": [], 
            "source": "import torch\nimport torch.nn as nn\nfrom torch.autograd import Variable\nimport numpy as np"
        }, 
        {
            "execution_count": 26, 
            "cell_type": "code", 
            "metadata": {}, 
            "outputs": [
                {
                    "output_type": "stream", 
                    "name": "stdout", 
                    "text": "[0, 1, 2, 3, 4, 5, 6, 7, 8, 9, 10, 11, 12, 13, 14, 15, 16, 17, 18, 19]\n(20, 1)\n[2, 7, 12, 17, 22, 27, 32, 37, 42, 47, 52, 57, 62, 67, 72, 77, 82, 87, 92, 97]\n(20, 1)\n"
                }
            ], 
            "source": "x = [i for i in range(20)] #list comprehention\nx_train = np.array(x, dtype=np.float32)\nx_train = x_train.reshape(-1, 1)\nprint(x)\nprint(x_train.shape)\n\ny = [(5*i + 2) for i in x] #list comprehention\ny_train = np.array(y, dtype=np.float32)\ny_train = y_train.reshape(-1, 1)\nprint(y)\nprint(y_train.shape)"
        }, 
        {
            "source": "##  Create Model Class", 
            "cell_type": "markdown", 
            "metadata": {}
        }, 
        {
            "execution_count": 27, 
            "cell_type": "code", 
            "metadata": {}, 
            "outputs": [
                {
                    "execution_count": 27, 
                    "metadata": {}, 
                    "data": {
                        "text/plain": "LinearRegressor(\n  (linear): Linear(in_features=1, out_features=1, bias=True)\n)"
                    }, 
                    "output_type": "execute_result"
                }
            ], 
            "source": "class LinearRegressor(nn.Module):\n    def __init__(self, input_dim, output_dim):\n        super(LinearRegressor, self).__init__()\n        self.linear = nn.Linear(input_dim, output_dim)  \n    \n    def forward(self, x):\n        out = self.linear(x)\n        return out\n\ninput_dim = 1\noutput_dim = 1\n\nmodel = LinearRegressor(input_dim, output_dim)\n\nmodel"
        }, 
        {
            "source": "## Loss & Optimizer", 
            "cell_type": "markdown", 
            "metadata": {}
        }, 
        {
            "execution_count": 28, 
            "cell_type": "code", 
            "metadata": {}, 
            "outputs": [
                {
                    "execution_count": 28, 
                    "metadata": {}, 
                    "data": {
                        "text/plain": "MSELoss(\n)"
                    }, 
                    "output_type": "execute_result"
                }
            ], 
            "source": "loss_function = nn.MSELoss()\n\n\noptimizer = torch.optim.SGD(model.parameters(), lr=0.001)\noptimizer\nloss_function"
        }, 
        {
            "execution_count": 29, 
            "cell_type": "code", 
            "metadata": {}, 
            "outputs": [
                {
                    "output_type": "stream", 
                    "name": "stdout", 
                    "text": "epoch 1, loss 2709.36669922\nepoch 2, loss 1530.92407227\nepoch 3, loss 865.333129883\nepoch 4, loss 489.403076172\nepoch 5, loss 277.07510376\nepoch 6, loss 157.150436401\nepoch 7, loss 89.4155883789\nepoch 8, loss 51.157913208\nepoch 9, loss 29.5491027832\nepoch 10, loss 17.3436183929\nepoch 11, loss 10.4491834641\nepoch 12, loss 6.55447530746\nepoch 13, loss 4.35402727127\nepoch 14, loss 3.11049962044\nepoch 15, loss 2.40744829178\nepoch 16, loss 2.00967669487\nepoch 17, loss 1.78431284428\nepoch 18, loss 1.65633547306\nepoch 19, loss 1.58335328102\nepoch 20, loss 1.54144215584\nepoch 21, loss 1.51707673073\nepoch 22, loss 1.5026242733\nepoch 23, loss 1.49377059937\nepoch 24, loss 1.48807883263\nepoch 25, loss 1.48417425156\nepoch 26, loss 1.48128032684\nepoch 27, loss 1.47895789146\nepoch 28, loss 1.47695767879\nepoch 29, loss 1.47514283657\nepoch 30, loss 1.47343087196\nepoch 31, loss 1.47177815437\nepoch 32, loss 1.47015976906\nepoch 33, loss 1.46856331825\nepoch 34, loss 1.46697747707\nepoch 35, loss 1.46540117264\nepoch 36, loss 1.46382701397\nepoch 37, loss 1.46225810051\nepoch 38, loss 1.46069121361\nepoch 39, loss 1.45912778378\nepoch 40, loss 1.45756459236\nepoch 41, loss 1.45600581169\nepoch 42, loss 1.45444595814\nepoch 43, loss 1.45288991928\nepoch 44, loss 1.45133376122\nepoch 45, loss 1.44978106022\nepoch 46, loss 1.44822871685\nepoch 47, loss 1.44668030739\nepoch 48, loss 1.44512975216\nepoch 49, loss 1.4435839653\nepoch 50, loss 1.44203782082\nepoch 51, loss 1.44049584866\nepoch 52, loss 1.43895411491\nepoch 53, loss 1.43741297722\nepoch 54, loss 1.43587422371\nepoch 55, loss 1.43433642387\nepoch 56, loss 1.43280220032\nepoch 57, loss 1.43126893044\nepoch 58, loss 1.42973840237\nepoch 59, loss 1.4282091856\nepoch 60, loss 1.42667853832\nepoch 61, loss 1.42515206337\nepoch 62, loss 1.42362689972\nepoch 63, loss 1.42210507393\nepoch 64, loss 1.42058098316\nepoch 65, loss 1.41906058788\nepoch 66, loss 1.41754186153\nepoch 67, loss 1.41602504253\nepoch 68, loss 1.41450881958\nepoch 69, loss 1.41299521923\nepoch 70, loss 1.41148161888\nepoch 71, loss 1.40997219086\nepoch 72, loss 1.4084649086\nepoch 73, loss 1.40695631504\nepoch 74, loss 1.40545201302\nepoch 75, loss 1.40394592285\nepoch 76, loss 1.40244317055\nepoch 77, loss 1.40094161034\nepoch 78, loss 1.39944291115\nepoch 79, loss 1.3979446888\nepoch 80, loss 1.39644873142\nepoch 81, loss 1.39495396614\nepoch 82, loss 1.39346241951\nepoch 83, loss 1.39196944237\nepoch 84, loss 1.39048135281\nepoch 85, loss 1.38899171352\nepoch 86, loss 1.3875067234\nepoch 87, loss 1.38602042198\nepoch 88, loss 1.38453674316\nepoch 89, loss 1.38305497169\nepoch 90, loss 1.38157486916\nepoch 91, loss 1.38009619713\nepoch 92, loss 1.37861895561\nepoch 93, loss 1.37714493275\nepoch 94, loss 1.37566792965\nepoch 95, loss 1.3741966486\nepoch 96, loss 1.37272453308\nepoch 97, loss 1.37125694752\nepoch 98, loss 1.36978888512\nepoch 99, loss 1.36832213402\nepoch 100, loss 1.36686003208\nepoch 101, loss 1.36539697647\nepoch 102, loss 1.36393594742\nepoch 103, loss 1.36247575283\nepoch 104, loss 1.36101460457\nepoch 105, loss 1.35955929756\nepoch 106, loss 1.35810446739\nepoch 107, loss 1.35664927959\nepoch 108, loss 1.35519862175\nepoch 109, loss 1.3537478447\nepoch 110, loss 1.35230064392\nepoch 111, loss 1.35085225105\nepoch 112, loss 1.34940683842\nepoch 113, loss 1.34796190262\nepoch 114, loss 1.34651970863\nepoch 115, loss 1.34507882595\nepoch 116, loss 1.3436383009\nepoch 117, loss 1.34220230579\nepoch 118, loss 1.34076333046\nepoch 119, loss 1.33932948112\nepoch 120, loss 1.33789467812\nepoch 121, loss 1.33646464348\nepoch 122, loss 1.33503341675\nepoch 123, loss 1.3336032629\nepoch 124, loss 1.3321750164\nepoch 125, loss 1.33075261116\nepoch 126, loss 1.32932519913\nepoch 127, loss 1.32790219784\nepoch 128, loss 1.32648253441\nepoch 129, loss 1.32506299019\nepoch 130, loss 1.3236464262\nepoch 131, loss 1.32222807407\nepoch 132, loss 1.32081413269\nepoch 133, loss 1.31939959526\nepoch 134, loss 1.31798624992\nepoch 135, loss 1.31657874584\nepoch 136, loss 1.31516861916\nepoch 137, loss 1.31376063824\nepoch 138, loss 1.31235468388\nepoch 139, loss 1.31095087528\nepoch 140, loss 1.30954813957\nepoch 141, loss 1.30814468861\nepoch 142, loss 1.30674481392\nepoch 143, loss 1.30534434319\nepoch 144, loss 1.30394911766\nepoch 145, loss 1.30255222321\nepoch 146, loss 1.30116009712\nepoch 147, loss 1.29976677895\nepoch 148, loss 1.29837572575\nepoch 149, loss 1.29698562622\nepoch 150, loss 1.29559779167\nepoch 151, loss 1.29421186447\nepoch 152, loss 1.29282617569\nepoch 153, loss 1.29144358635\nepoch 154, loss 1.29005861282\nepoch 155, loss 1.28867995739\nepoch 156, loss 1.28729939461\nepoch 157, loss 1.2859224081\nepoch 158, loss 1.2845467329\nepoch 159, loss 1.28316998482\nepoch 160, loss 1.28179931641\nepoch 161, loss 1.28042709827\nepoch 162, loss 1.2790569067\nepoch 163, loss 1.27768826485\nepoch 164, loss 1.27631747723\nepoch 165, loss 1.27495288849\nepoch 166, loss 1.27358925343\nepoch 167, loss 1.27222442627\nepoch 168, loss 1.27086377144\nepoch 169, loss 1.26950192451\nepoch 170, loss 1.26814591885\nepoch 171, loss 1.26678812504\nepoch 172, loss 1.26543152332\nepoch 173, loss 1.26407599449\nepoch 174, loss 1.2627235651\nepoch 175, loss 1.26137244701\nepoch 176, loss 1.26002299786\nepoch 177, loss 1.25867390633\nepoch 178, loss 1.25732886791\nepoch 179, loss 1.25598120689\nepoch 180, loss 1.25463747978\nepoch 181, loss 1.25329494476\nepoch 182, loss 1.2519544363\nepoch 183, loss 1.25061273575\nepoch 184, loss 1.24927473068\nepoch 185, loss 1.24793720245\nepoch 186, loss 1.2466006279\nepoch 187, loss 1.24526631832\nepoch 188, loss 1.24393486977\nepoch 189, loss 1.24260354042\nepoch 190, loss 1.2412750721\nepoch 191, loss 1.23994410038\nepoch 192, loss 1.23861765862\nepoch 193, loss 1.2372906208\nepoch 194, loss 1.23596811295\nepoch 195, loss 1.23464512825\nepoch 196, loss 1.23332226276\nepoch 197, loss 1.23200547695\nepoch 198, loss 1.23068642616\nepoch 199, loss 1.22936928272\nepoch 200, loss 1.228053689\nepoch 201, loss 1.22673678398\nepoch 202, loss 1.22542512417\nepoch 203, loss 1.22411346436\nepoch 204, loss 1.22280204296\nepoch 205, loss 1.22149407864\nepoch 206, loss 1.2201859951\nepoch 207, loss 1.21888136864\nepoch 208, loss 1.2175770998\nepoch 209, loss 1.21627211571\nepoch 210, loss 1.2149708271\nepoch 211, loss 1.21366989613\nepoch 212, loss 1.21237123013\nepoch 213, loss 1.21107363701\nepoch 214, loss 1.20977914333\nepoch 215, loss 1.2084839344\nepoch 216, loss 1.20718932152\nepoch 217, loss 1.20589876175\nepoch 218, loss 1.20460891724\nepoch 219, loss 1.20331847668\nepoch 220, loss 1.20203065872\nepoch 221, loss 1.20074295998\nepoch 222, loss 1.19946026802\nepoch 223, loss 1.1981767416\nepoch 224, loss 1.19689321518\nepoch 225, loss 1.19561231136\nepoch 226, loss 1.1943334341\nepoch 227, loss 1.19305253029\nepoch 228, loss 1.1917771101\nepoch 229, loss 1.19050335884\nepoch 230, loss 1.1892272234\nepoch 231, loss 1.18795609474\nepoch 232, loss 1.18668270111\nepoch 233, loss 1.18541145325\nepoch 234, loss 1.1841455698\nepoch 235, loss 1.18287777901\nepoch 236, loss 1.18161177635\nepoch 237, loss 1.18034720421\nepoch 238, loss 1.17908406258\nepoch 239, loss 1.1778190136\nepoch 240, loss 1.17655992508\nepoch 241, loss 1.17530083656\nepoch 242, loss 1.17404162884\nepoch 243, loss 1.17278647423\nepoch 244, loss 1.17153036594\nepoch 245, loss 1.17027878761\nepoch 246, loss 1.16902470589\nepoch 247, loss 1.1677737236\nepoch 248, loss 1.16652274132\nepoch 249, loss 1.16527426243\nepoch 250, loss 1.16402697563\nepoch 251, loss 1.16278219223\nepoch 252, loss 1.16153788567\nepoch 253, loss 1.16029429436\nepoch 254, loss 1.15905106068\nepoch 255, loss 1.15781188011\nepoch 256, loss 1.15657186508\nepoch 257, loss 1.15533471107\nepoch 258, loss 1.15409874916\nepoch 259, loss 1.15286195278\nepoch 260, loss 1.15163064003\nepoch 261, loss 1.15039753914\nepoch 262, loss 1.14916563034\nepoch 263, loss 1.14793562889\nepoch 264, loss 1.14670777321\nepoch 265, loss 1.1454782486\nepoch 266, loss 1.14425396919\nepoch 267, loss 1.14302968979\nepoch 268, loss 1.14180493355\nepoch 269, loss 1.140583992\nepoch 270, loss 1.13936138153\nepoch 271, loss 1.13814485073\nepoch 272, loss 1.13692581654\nepoch 273, loss 1.13570892811\nepoch 274, loss 1.1344935894\nepoch 275, loss 1.13327872753\nepoch 276, loss 1.13206577301\nepoch 277, loss 1.13085365295\nepoch 278, loss 1.12964498997\nepoch 279, loss 1.12843346596\nepoch 280, loss 1.12722706795\nepoch 281, loss 1.12602198124\nepoch 282, loss 1.12481498718\nepoch 283, loss 1.12361288071\nepoch 284, loss 1.12240874767\nepoch 285, loss 1.12120783329\nepoch 286, loss 1.12000727654\nepoch 287, loss 1.11880779266\nepoch 288, loss 1.11761021614\nepoch 289, loss 1.1164137125\nepoch 290, loss 1.11521935463\nepoch 291, loss 1.11402702332\nepoch 292, loss 1.112834692\nepoch 293, loss 1.11164200306\nepoch 294, loss 1.11045336723\nepoch 295, loss 1.10926365852\nepoch 296, loss 1.10807836056\nepoch 297, loss 1.10689175129\nepoch 298, loss 1.10570645332\nepoch 299, loss 1.10452544689\nepoch 300, loss 1.10334193707\nepoch 301, loss 1.10216069221\nepoch 302, loss 1.1009824276\nepoch 303, loss 1.09980416298\nepoch 304, loss 1.09862434864\nepoch 305, loss 1.09744989872\nepoch 306, loss 1.09627556801\nepoch 307, loss 1.09510052204\nepoch 308, loss 1.09392976761\nepoch 309, loss 1.09275853634\nepoch 310, loss 1.09159088135\nepoch 311, loss 1.09042167664\nepoch 312, loss 1.08925414085\nepoch 313, loss 1.08808720112\nepoch 314, loss 1.08692276478\nepoch 315, loss 1.08575928211\nepoch 316, loss 1.08459842205\nepoch 317, loss 1.08343791962\nepoch 318, loss 1.08227956295\nepoch 319, loss 1.0811188221\nepoch 320, loss 1.07996249199\nepoch 321, loss 1.07880806923\nepoch 322, loss 1.07765185833\nepoch 323, loss 1.0764977932\nepoch 324, loss 1.0753480196\nepoch 325, loss 1.07419586182\nepoch 326, loss 1.07304608822\nepoch 327, loss 1.07189762592\nepoch 328, loss 1.07075047493\nepoch 329, loss 1.06960403919\nepoch 330, loss 1.06845974922\nepoch 331, loss 1.06731712818\nepoch 332, loss 1.06617236137\nepoch 333, loss 1.06503236294\nepoch 334, loss 1.06389141083\nepoch 335, loss 1.06275355816\nepoch 336, loss 1.06161570549\nepoch 337, loss 1.06048226357\nepoch 338, loss 1.05934548378\nepoch 339, loss 1.05821144581\nepoch 340, loss 1.05707836151\nepoch 341, loss 1.05594718456\nepoch 342, loss 1.05481719971\nepoch 343, loss 1.05368816853\nepoch 344, loss 1.05256104469\nepoch 345, loss 1.05143249035\nepoch 346, loss 1.05030846596\nepoch 347, loss 1.04918551445\nepoch 348, loss 1.04806160927\nepoch 349, loss 1.04694104195\nepoch 350, loss 1.04581975937\nepoch 351, loss 1.04469943047\nepoch 352, loss 1.04358065128\nepoch 353, loss 1.04246640205\nepoch 354, loss 1.04135012627\nepoch 355, loss 1.04023587704\nepoch 356, loss 1.0391228199\nepoch 357, loss 1.03800809383\nepoch 358, loss 1.03689861298\nepoch 359, loss 1.03578925133\nepoch 360, loss 1.03467857838\nepoch 361, loss 1.03357255459\nepoch 362, loss 1.03246474266\nepoch 363, loss 1.03136098385\nepoch 364, loss 1.03025746346\nepoch 365, loss 1.0291531086\nepoch 366, loss 1.0280547142\nepoch 367, loss 1.02695393562\nepoch 368, loss 1.02585482597\nepoch 369, loss 1.02475667\nepoch 370, loss 1.023660779\nepoch 371, loss 1.02256202698\nepoch 372, loss 1.02146923542\nepoch 373, loss 1.02037632465\nepoch 374, loss 1.01928269863\nepoch 375, loss 1.01819252968\nepoch 376, loss 1.01710212231\nepoch 377, loss 1.01601541042\nepoch 378, loss 1.01492714882\nepoch 379, loss 1.01384043694\nepoch 380, loss 1.01275479794\nepoch 381, loss 1.01167035103\nepoch 382, loss 1.01058769226\nepoch 383, loss 1.00950622559\nepoch 384, loss 1.00842654705\nepoch 385, loss 1.00734817982\nepoch 386, loss 1.00627028942\nepoch 387, loss 1.00519156456\nepoch 388, loss 1.00411677361\nepoch 389, loss 1.00304031372\nepoch 390, loss 1.00196862221\nepoch 391, loss 1.00089561939\nepoch 392, loss 0.999823212624\nepoch 393, loss 0.998755574226\nepoch 394, loss 0.997686266899\nepoch 395, loss 0.996618270874\nepoch 396, loss 0.995551228523\nepoch 397, loss 0.994486033916\nepoch 398, loss 0.993422865868\nepoch 399, loss 0.992356956005\nepoch 400, loss 0.991296291351\nepoch 401, loss 0.990236163139\nepoch 402, loss 0.989174008369\nepoch 403, loss 0.988116443157\nepoch 404, loss 0.987058460712\nepoch 405, loss 0.986003696918\nepoch 406, loss 0.984947323799\nepoch 407, loss 0.983892798424\nepoch 408, loss 0.982840180397\nepoch 409, loss 0.98178756237\nepoch 410, loss 0.980736732483\nepoch 411, loss 0.979687869549\nepoch 412, loss 0.978639245033\nepoch 413, loss 0.977592349052\nepoch 414, loss 0.97654402256\nepoch 415, loss 0.975499510765\nepoch 416, loss 0.974454879761\nepoch 417, loss 0.973413169384\nepoch 418, loss 0.972370028496\nepoch 419, loss 0.971331715584\nepoch 420, loss 0.970290482044\nepoch 421, loss 0.969252407551\nepoch 422, loss 0.968214392662\nepoch 423, loss 0.967177987099\nepoch 424, loss 0.966142296791\nepoch 425, loss 0.965109467506\nepoch 426, loss 0.96407687664\nepoch 427, loss 0.96304500103\nepoch 428, loss 0.962015151978\nepoch 429, loss 0.960984110832\nepoch 430, loss 0.959957003593\nepoch 431, loss 0.958928287029\nepoch 432, loss 0.957903683186\nepoch 433, loss 0.956876635551\nepoch 434, loss 0.955852508545\nepoch 435, loss 0.954828619957\nepoch 436, loss 0.953808963299\nepoch 437, loss 0.952788174152\nepoch 438, loss 0.951768398285\nepoch 439, loss 0.950747668743\nepoch 440, loss 0.949730098248\nepoch 441, loss 0.948715090752\nepoch 442, loss 0.947698950768\nepoch 443, loss 0.946683287621\nepoch 444, loss 0.94567155838\nepoch 445, loss 0.944660842419\nepoch 446, loss 0.943648695946\nepoch 447, loss 0.94263792038\nepoch 448, loss 0.941631317139\nepoch 449, loss 0.940622150898\nepoch 450, loss 0.939614772797\nepoch 451, loss 0.938609004021\nepoch 452, loss 0.937604427338\nepoch 453, loss 0.936600804329\nepoch 454, loss 0.935599029064\nepoch 455, loss 0.934599101543\nepoch 456, loss 0.933596432209\nepoch 457, loss 0.932597637177\nepoch 458, loss 0.931601345539\nepoch 459, loss 0.93060284853\nepoch 460, loss 0.929605603218\nepoch 461, loss 0.928612232208\nepoch 462, loss 0.92761772871\nepoch 463, loss 0.926624000072\nepoch 464, loss 0.925634562969\nepoch 465, loss 0.924643874168\nepoch 466, loss 0.923653781414\nepoch 467, loss 0.922665715218\nepoch 468, loss 0.921675384045\nepoch 469, loss 0.920689225197\nepoch 470, loss 0.919705092907\nepoch 471, loss 0.918721556664\nepoch 472, loss 0.917736053467\nepoch 473, loss 0.916755318642\nepoch 474, loss 0.915772795677\nepoch 475, loss 0.914794445038\nepoch 476, loss 0.913814902306\nepoch 477, loss 0.912835776806\nepoch 478, loss 0.911858260632\nepoch 479, loss 0.910885453224\nepoch 480, loss 0.909910023212\nepoch 481, loss 0.908935844898\nepoch 482, loss 0.907963752747\nepoch 483, loss 0.906988978386\nepoch 484, loss 0.906019806862\nepoch 485, loss 0.905050098896\nepoch 486, loss 0.904082655907\nepoch 487, loss 0.903113543987\nepoch 488, loss 0.902148544788\nepoch 489, loss 0.901181817055\nepoch 490, loss 0.900215506554\nepoch 491, loss 0.89925467968\nepoch 492, loss 0.898290812969\nepoch 493, loss 0.897329986095\nepoch 494, loss 0.896369457245\nepoch 495, loss 0.895409405231\nepoch 496, loss 0.894451916218\nepoch 497, loss 0.893494129181\nepoch 498, loss 0.892538070679\nepoch 499, loss 0.891584277153\nepoch 500, loss 0.890628159046\n"
                }
            ], 
            "source": "epochs = 500\n\nfor epoch in range(epochs):\n    epoch += 1\n    #Convert inputs and outputs to torch variable\n    inputs = Variable(torch.from_numpy(x_train))\n    \n    real_outputs = Variable(torch.from_numpy(y_train))\n    \n    # Reset Gradients\n    optimizer.zero_grad()\n    \n    # Forward - compute the output\n    pred_outputs = model(inputs)\n    \n    # Loss\n    loss = loss_function(pred_outputs, real_outputs)\n    \n    # Backword - compute gradients\n    loss.backward()\n    \n    # Update parameters\n    optimizer.step()\n    \n    print('epoch {}, loss {}'.format(epoch, loss.data[0]))"
        }, 
        {
            "execution_count": null, 
            "cell_type": "code", 
            "metadata": {}, 
            "outputs": [], 
            "source": ""
        }
    ], 
    "metadata": {
        "kernelspec": {
            "display_name": "Python 2 with Spark 2.1", 
            "name": "python2-spark21", 
            "language": "python"
        }, 
        "language_info": {
            "mimetype": "text/x-python", 
            "nbconvert_exporter": "python", 
            "version": "2.7.11", 
            "name": "python", 
            "file_extension": ".py", 
            "pygments_lexer": "ipython2", 
            "codemirror_mode": {
                "version": 2, 
                "name": "ipython"
            }
        }
    }, 
    "nbformat": 4
}